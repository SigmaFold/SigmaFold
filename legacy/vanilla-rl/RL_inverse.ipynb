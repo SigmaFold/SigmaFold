{
 "cells": [
  {
   "cell_type": "code",
   "execution_count": null,
   "metadata": {},
   "outputs": [],
   "source": [
    "\"\"\"\n",
    "Vanilla RL implementation of unverse folding to be used as a baseline for comparison with other methods/ reference for Deep RL implementation.\n",
    "\"\"\""
   ]
  },
  {
   "cell_type": "markdown",
   "metadata": {},
   "source": [
    "## Inverse Folding"
   ]
  },
  {
   "cell_type": "code",
   "execution_count": 6,
   "metadata": {},
   "outputs": [],
   "source": [
    "import numpy as np\n",
    "import pandas as pd\n",
    "import random"
   ]
  },
  {
   "cell_type": "code",
   "execution_count": 2,
   "metadata": {},
   "outputs": [],
   "source": [
    "# Get user input -> a directed graph of the input shape#\n",
    "input_graph = {}\n",
    " # get the number of nodes in the graph\n",
    "n = len(input_graph)\n"
   ]
  },
  {
   "cell_type": "code",
   "execution_count": 8,
   "metadata": {},
   "outputs": [],
   "source": [
    "def transfer_function(current,action):\n",
    "    \"\"\"Takes current state and returns the next state based on chosen action.\n",
    "    H -> action = 1\n",
    "    P -> action = 2\n",
    "    0 aa -> state 0\"\"\"\n",
    "    return 2 * current + (action+1)"
   ]
  },
  {
   "cell_type": "code",
   "execution_count": 16,
   "metadata": {},
   "outputs": [
    {
     "name": "stdout",
     "output_type": "stream",
     "text": [
      "['H', 'P', 'P', 'H', 'H', 'H']\n"
     ]
    }
   ],
   "source": [
    "# initialize the Q-table\n",
    "n = 5\n",
    "total_states = 2**(n+1)-1 # n = length of chain\n",
    "q_table = np.zeros([total_states, 2])\n",
    "action_space = [1,2]\n",
    "episilon = 0.4 # episilon greedy policy\n",
    "iteration = 1\n",
    "\n",
    "for x in range(iteration):\n",
    "    # initialising\n",
    "    seq = []\n",
    "    i = 0\n",
    "    state = 0\n",
    "    while len(seq) <= n:\n",
    "        # chooses to explore or exploit\n",
    "        if random.uniform(0,1) < episilon:\n",
    "            action = random.choice(action_space) # explore\n",
    "        else:\n",
    "            action = np.argmax(q_table[state]) # exploit\n",
    "\n",
    "        state = transfer_function(state,action) # next state\n",
    "\n",
    "        # adds to sequence\n",
    "        if action == 0:\n",
    "            seq.append('H')\n",
    "        else:\n",
    "            seq.append('P')\n"
   ]
  }
 ],
 "metadata": {
  "kernelspec": {
   "display_name": "Python 3.8.10 ('venv': venv)",
   "language": "python",
   "name": "python3"
  },
  "language_info": {
   "codemirror_mode": {
    "name": "ipython",
    "version": 3
   },
   "file_extension": ".py",
   "mimetype": "text/x-python",
   "name": "python",
   "nbconvert_exporter": "python",
   "pygments_lexer": "ipython3",
   "version": "3.8.10"
  },
  "orig_nbformat": 4,
  "vscode": {
   "interpreter": {
    "hash": "3eff82a93bf95d7ceddecb619baa554e8a27e2f8c14f6e332eb5e37a5fa7a4e7"
   }
  }
 },
 "nbformat": 4,
 "nbformat_minor": 2
}
