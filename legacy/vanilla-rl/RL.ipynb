{
 "cells": [
  {
   "cell_type": "code",
   "execution_count": null,
   "metadata": {},
   "outputs": [],
   "source": [
    "\"\"\"\n",
    "Gloria's Vanilla Forward Folding RL implementation. Rn has no use, included for reference.\n",
    "\"\"\""
   ]
  },
  {
   "cell_type": "code",
   "execution_count": 95,
   "metadata": {},
   "outputs": [],
   "source": [
    "import numpy as np\n",
    "import pandas as pd\n",
    "import sys\n",
    "import gym\n",
    "import io\n",
    "import random\n",
    "\n",
    "from gym_lattice.envs import Lattice2DEnv\n",
    "from gym import spaces\n",
    "from IPython.display import clear_output"
   ]
  },
  {
   "cell_type": "markdown",
   "metadata": {},
   "source": [
    "## Defining Functions"
   ]
  },
  {
   "cell_type": "code",
   "execution_count": 14,
   "metadata": {},
   "outputs": [],
   "source": [
    "def next_state(i,state,action):\n",
    "    k = state-((4**(i-1)-1)/3)\n",
    "    state1 = int((4**i-1)/3+4*(k-1)+(action+1))\n",
    "    return state1"
   ]
  },
  {
   "cell_type": "markdown",
   "metadata": {},
   "source": [
    "## RL with Q-Learning"
   ]
  },
  {
   "cell_type": "code",
   "execution_count": 158,
   "metadata": {},
   "outputs": [
    {
     "name": "stdout",
     "output_type": "stream",
     "text": [
      "Action Space Discrete(4)\n",
      "State Space Box(21, 21)\n",
      "Total State Number 349525\n"
     ]
    }
   ],
   "source": [
    "seq = 'HPHHHPHHPH' # Our input sequence\n",
    "action_space = spaces.Discrete(4) # Choose among [0, 1, 2 ,3]\n",
    "env = Lattice2DEnv(seq)\n",
    "states = int((4**len(seq)-1)/3)\n",
    "\n",
    "print(\"Action Space {}\".format(env.action_space))\n",
    "print(\"State Space {}\".format(env.observation_space))\n",
    "print(\"Total State Number {}\".format(states))"
   ]
  },
  {
   "cell_type": "code",
   "execution_count": 174,
   "metadata": {},
   "outputs": [
    {
     "name": "stdout",
     "output_type": "stream",
     "text": [
      "\u001b[33mWARN: Your agent was trapped! Ending the episode.\u001b[0m\n",
      "\u001b[33mWARN: Your agent was trapped! Ending the episode.\u001b[0m\n",
      "\u001b[33mWARN: Your agent was trapped! Ending the episode.\u001b[0m\n",
      "\u001b[33mWARN: Your agent was trapped! Ending the episode.\u001b[0m\n",
      "\u001b[33mWARN: Your agent was trapped! Ending the episode.\u001b[0m\n",
      "\u001b[33mWARN: Your agent was trapped! Ending the episode.\u001b[0m\n",
      "\u001b[33mWARN: Your agent was trapped! Ending the episode.\u001b[0m\n",
      "\u001b[33mWARN: Your agent was trapped! Ending the episode.\u001b[0m\n",
      "\u001b[33mWARN: Your agent was trapped! Ending the episode.\u001b[0m\n",
      "\u001b[33mWARN: Your agent was trapped! Ending the episode.\u001b[0m\n",
      "\u001b[33mWARN: Your agent was trapped! Ending the episode.\u001b[0m\n",
      "\u001b[33mWARN: Your agent was trapped! Ending the episode.\u001b[0m\n",
      "\u001b[33mWARN: Your agent was trapped! Ending the episode.\u001b[0m\n",
      "\u001b[33mWARN: Your agent was trapped! Ending the episode.\u001b[0m\n",
      "\u001b[33mWARN: Your agent was trapped! Ending the episode.\u001b[0m\n",
      "\u001b[33mWARN: Your agent was trapped! Ending the episode.\u001b[0m\n",
      "\u001b[33mWARN: Your agent was trapped! Ending the episode.\u001b[0m\n",
      "\u001b[33mWARN: Your agent was trapped! Ending the episode.\u001b[0m\n",
      "\u001b[33mWARN: Your agent was trapped! Ending the episode.\u001b[0m\n",
      "\u001b[33mWARN: Your agent was trapped! Ending the episode.\u001b[0m\n",
      "\u001b[33mWARN: Your agent was trapped! Ending the episode.\u001b[0m\n",
      "\u001b[33mWARN: Your agent was trapped! Ending the episode.\u001b[0m\n",
      "\u001b[33mWARN: Your agent was trapped! Ending the episode.\u001b[0m\n",
      "\u001b[33mWARN: Your agent was trapped! Ending the episode.\u001b[0m\n",
      "\u001b[33mWARN: Your agent was trapped! Ending the episode.\u001b[0m\n",
      "\u001b[33mWARN: Your agent was trapped! Ending the episode.\u001b[0m\n",
      "\u001b[33mWARN: Your agent was trapped! Ending the episode.\u001b[0m\n",
      "\u001b[33mWARN: Your agent was trapped! Ending the episode.\u001b[0m\n",
      "\u001b[33mWARN: Your agent was trapped! Ending the episode.\u001b[0m\n",
      "\u001b[33mWARN: Your agent was trapped! Ending the episode.\u001b[0m\n",
      "\u001b[33mWARN: Your agent was trapped! Ending the episode.\u001b[0m\n",
      "\u001b[33mWARN: Your agent was trapped! Ending the episode.\u001b[0m\n",
      "\u001b[33mWARN: Your agent was trapped! Ending the episode.\u001b[0m\n",
      "\u001b[33mWARN: Your agent was trapped! Ending the episode.\u001b[0m\n",
      "\u001b[33mWARN: Your agent was trapped! Ending the episode.\u001b[0m\n",
      "\u001b[33mWARN: Your agent was trapped! Ending the episode.\u001b[0m\n",
      "\u001b[33mWARN: Your agent was trapped! Ending the episode.\u001b[0m\n",
      "\u001b[33mWARN: Your agent was trapped! Ending the episode.\u001b[0m\n",
      "\u001b[33mWARN: Your agent was trapped! Ending the episode.\u001b[0m\n",
      "\u001b[33mWARN: Your agent was trapped! Ending the episode.\u001b[0m\n",
      "\u001b[33mWARN: Your agent was trapped! Ending the episode.\u001b[0m\n",
      "\u001b[33mWARN: Your agent was trapped! Ending the episode.\u001b[0m\n",
      "\u001b[33mWARN: Your agent was trapped! Ending the episode.\u001b[0m\n",
      "\u001b[33mWARN: Your agent was trapped! Ending the episode.\u001b[0m\n",
      "\u001b[33mWARN: Your agent was trapped! Ending the episode.\u001b[0m\n",
      "\u001b[33mWARN: Your agent was trapped! Ending the episode.\u001b[0m\n",
      "\u001b[33mWARN: Your agent was trapped! Ending the episode.\u001b[0m\n",
      "\u001b[33mWARN: Your agent was trapped! Ending the episode.\u001b[0m\n",
      "\u001b[33mWARN: Your agent was trapped! Ending the episode.\u001b[0m\n",
      "\u001b[33mWARN: Your agent was trapped! Ending the episode.\u001b[0m\n",
      "\u001b[33mWARN: Your agent was trapped! Ending the episode.\u001b[0m\n",
      "\u001b[33mWARN: Your agent was trapped! Ending the episode.\u001b[0m\n",
      "\u001b[33mWARN: Your agent was trapped! Ending the episode.\u001b[0m\n",
      "\u001b[33mWARN: Your agent was trapped! Ending the episode.\u001b[0m\n",
      "\u001b[33mWARN: Your agent was trapped! Ending the episode.\u001b[0m\n",
      "\u001b[33mWARN: Your agent was trapped! Ending the episode.\u001b[0m\n",
      "\u001b[33mWARN: Your agent was trapped! Ending the episode.\u001b[0m\n",
      "\u001b[33mWARN: Your agent was trapped! Ending the episode.\u001b[0m\n",
      "\u001b[33mWARN: Your agent was trapped! Ending the episode.\u001b[0m\n",
      "\u001b[33mWARN: Your agent was trapped! Ending the episode.\u001b[0m\n",
      "\u001b[33mWARN: Your agent was trapped! Ending the episode.\u001b[0m\n",
      "\u001b[33mWARN: Your agent was trapped! Ending the episode.\u001b[0m\n",
      "\u001b[33mWARN: Your agent was trapped! Ending the episode.\u001b[0m\n",
      "\u001b[33mWARN: Your agent was trapped! Ending the episode.\u001b[0m\n",
      "\u001b[33mWARN: Your agent was trapped! Ending the episode.\u001b[0m\n",
      "\u001b[33mWARN: Your agent was trapped! Ending the episode.\u001b[0m\n",
      "\u001b[33mWARN: Your agent was trapped! Ending the episode.\u001b[0m\n",
      "\u001b[33mWARN: Your agent was trapped! Ending the episode.\u001b[0m\n",
      "\u001b[33mWARN: Your agent was trapped! Ending the episode.\u001b[0m\n",
      "\u001b[33mWARN: Your agent was trapped! Ending the episode.\u001b[0m\n",
      "\u001b[33mWARN: Your agent was trapped! Ending the episode.\u001b[0m\n",
      "\u001b[33mWARN: Your agent was trapped! Ending the episode.\u001b[0m\n",
      "\u001b[33mWARN: Your agent was trapped! Ending the episode.\u001b[0m\n",
      "\u001b[33mWARN: Your agent was trapped! Ending the episode.\u001b[0m\n",
      "\u001b[33mWARN: Your agent was trapped! Ending the episode.\u001b[0m\n",
      "\u001b[33mWARN: Your agent was trapped! Ending the episode.\u001b[0m\n",
      "\u001b[33mWARN: Your agent was trapped! Ending the episode.\u001b[0m\n",
      "\u001b[33mWARN: Your agent was trapped! Ending the episode.\u001b[0m\n",
      "\u001b[33mWARN: Your agent was trapped! Ending the episode.\u001b[0m\n",
      "\u001b[33mWARN: Your agent was trapped! Ending the episode.\u001b[0m\n",
      "\u001b[33mWARN: Your agent was trapped! Ending the episode.\u001b[0m\n",
      "\u001b[33mWARN: Your agent was trapped! Ending the episode.\u001b[0m\n",
      "4\n",
      "3\n",
      "2\n",
      "4\n",
      "4\n"
     ]
    }
   ],
   "source": [
    "q_table = np.zeros([states, env.action_space.n])\n",
    "alpha = 0.1\n",
    "gamma = 0.6\n",
    "episilon = 0.4\n",
    "n = 60000\n",
    "\n",
    "for x in range(n):\n",
    "    # initialising\n",
    "    env.reset()\n",
    "    i = 1\n",
    "    state = 0\n",
    "\n",
    "    while i < len(seq):\n",
    "        # chooses to explore or exploit\n",
    "        if random.uniform(0,1) < episilon:\n",
    "            action = env.action_space.sample() # explore\n",
    "        else:\n",
    "            action = np.argmax(q_table[state]) # exploit\n",
    "        obs, reward, done, info = env.step(action) # executes action based on episilon\n",
    "\n",
    "        # updates state number\n",
    "        if info['is_trapped']:\n",
    "            break\n",
    "        elif i == info['chain_length']: # if collision happens\n",
    "            continue # goes to start of while loop without updating state\n",
    "        else:\n",
    "            i = info['chain_length'] # updates chain length\n",
    "            old_value = q_table[state, action]\n",
    "            state2 = next_state(i,state,action) # gets next state\n",
    "            next_max = np.max(q_table[state2])\n",
    "            new_value = (1 - alpha) * old_value + alpha * (reward + gamma * next_max)\n",
    "            q_table[state, action] = new_value\n",
    "            state = state2\n",
    "    episilon = episilon-(episilon/n)\n",
    "    if x>=n-5:\n",
    "        print(reward)\n"
   ]
  },
  {
   "cell_type": "code",
   "execution_count": 173,
   "metadata": {},
   "outputs": [
    {
     "name": "stdout",
     "output_type": "stream",
     "text": [
      "0.11036314257388745\n",
      "  (Left)\n",
      "\u001b[30m*\u001b[0m\u001b[30m*\u001b[0m\u001b[30m*\u001b[0m\u001b[30m*\u001b[0m\u001b[30m*\u001b[0m\u001b[30m*\u001b[0m\u001b[30m*\u001b[0m\u001b[30m*\u001b[0m\u001b[30m*\u001b[0m\u001b[30m*\u001b[0m\u001b[30m*\u001b[0m\u001b[30m*\u001b[0m\u001b[30m*\u001b[0m\u001b[30m*\u001b[0m\u001b[30m*\u001b[0m\u001b[30m*\u001b[0m\u001b[30m*\u001b[0m\u001b[30m*\u001b[0m\u001b[30m*\u001b[0m\u001b[30m*\u001b[0m\u001b[30m*\u001b[0m\n",
      "\u001b[30m*\u001b[0m\u001b[30m*\u001b[0m\u001b[30m*\u001b[0m\u001b[30m*\u001b[0m\u001b[30m*\u001b[0m\u001b[30m*\u001b[0m\u001b[30m*\u001b[0m\u001b[30m*\u001b[0m\u001b[30m*\u001b[0m\u001b[30m*\u001b[0m\u001b[30m*\u001b[0m\u001b[30m*\u001b[0m\u001b[30m*\u001b[0m\u001b[30m*\u001b[0m\u001b[30m*\u001b[0m\u001b[30m*\u001b[0m\u001b[30m*\u001b[0m\u001b[30m*\u001b[0m\u001b[30m*\u001b[0m\u001b[30m*\u001b[0m\u001b[30m*\u001b[0m\n",
      "\u001b[30m*\u001b[0m\u001b[30m*\u001b[0m\u001b[30m*\u001b[0m\u001b[30m*\u001b[0m\u001b[30m*\u001b[0m\u001b[30m*\u001b[0m\u001b[30m*\u001b[0m\u001b[30m*\u001b[0m\u001b[30m*\u001b[0m\u001b[30m*\u001b[0m\u001b[30m*\u001b[0m\u001b[30m*\u001b[0m\u001b[30m*\u001b[0m\u001b[30m*\u001b[0m\u001b[30m*\u001b[0m\u001b[30m*\u001b[0m\u001b[30m*\u001b[0m\u001b[30m*\u001b[0m\u001b[30m*\u001b[0m\u001b[30m*\u001b[0m\u001b[30m*\u001b[0m\n",
      "\u001b[30m*\u001b[0m\u001b[30m*\u001b[0m\u001b[30m*\u001b[0m\u001b[30m*\u001b[0m\u001b[30m*\u001b[0m\u001b[30m*\u001b[0m\u001b[30m*\u001b[0m\u001b[30m*\u001b[0m\u001b[30m*\u001b[0m\u001b[30m*\u001b[0m\u001b[30m*\u001b[0m\u001b[30m*\u001b[0m\u001b[30m*\u001b[0m\u001b[30m*\u001b[0m\u001b[30m*\u001b[0m\u001b[30m*\u001b[0m\u001b[30m*\u001b[0m\u001b[30m*\u001b[0m\u001b[30m*\u001b[0m\u001b[30m*\u001b[0m\u001b[30m*\u001b[0m\n",
      "\u001b[30m*\u001b[0m\u001b[30m*\u001b[0m\u001b[30m*\u001b[0m\u001b[30m*\u001b[0m\u001b[30m*\u001b[0m\u001b[30m*\u001b[0m\u001b[30m*\u001b[0m\u001b[30m*\u001b[0m\u001b[30m*\u001b[0m\u001b[30m*\u001b[0m\u001b[30m*\u001b[0m\u001b[30m*\u001b[0m\u001b[30m*\u001b[0m\u001b[30m*\u001b[0m\u001b[30m*\u001b[0m\u001b[30m*\u001b[0m\u001b[30m*\u001b[0m\u001b[30m*\u001b[0m\u001b[30m*\u001b[0m\u001b[30m*\u001b[0m\u001b[30m*\u001b[0m\n",
      "\u001b[30m*\u001b[0m\u001b[30m*\u001b[0m\u001b[30m*\u001b[0m\u001b[30m*\u001b[0m\u001b[30m*\u001b[0m\u001b[30m*\u001b[0m\u001b[30m*\u001b[0m\u001b[30m*\u001b[0m\u001b[30m*\u001b[0m\u001b[30m*\u001b[0m\u001b[30m*\u001b[0m\u001b[30m*\u001b[0m\u001b[30m*\u001b[0m\u001b[30m*\u001b[0m\u001b[30m*\u001b[0m\u001b[30m*\u001b[0m\u001b[30m*\u001b[0m\u001b[30m*\u001b[0m\u001b[30m*\u001b[0m\u001b[30m*\u001b[0m\u001b[30m*\u001b[0m\n",
      "\u001b[30m*\u001b[0m\u001b[30m*\u001b[0m\u001b[30m*\u001b[0m\u001b[30m*\u001b[0m\u001b[30m*\u001b[0m\u001b[30m*\u001b[0m\u001b[30m*\u001b[0m\u001b[30m*\u001b[0m\u001b[30m*\u001b[0m\u001b[30m*\u001b[0m\u001b[30m*\u001b[0m\u001b[30m*\u001b[0m\u001b[30m*\u001b[0m\u001b[30m*\u001b[0m\u001b[30m*\u001b[0m\u001b[30m*\u001b[0m\u001b[30m*\u001b[0m\u001b[30m*\u001b[0m\u001b[30m*\u001b[0m\u001b[30m*\u001b[0m\u001b[30m*\u001b[0m\n",
      "\u001b[30m*\u001b[0m\u001b[30m*\u001b[0m\u001b[30m*\u001b[0m\u001b[30m*\u001b[0m\u001b[30m*\u001b[0m\u001b[30m*\u001b[0m\u001b[30m*\u001b[0m\u001b[30m*\u001b[0m\u001b[30m*\u001b[0m\u001b[30m*\u001b[0m\u001b[30m*\u001b[0m\u001b[30m*\u001b[0m\u001b[30m*\u001b[0m\u001b[30m*\u001b[0m\u001b[30m*\u001b[0m\u001b[30m*\u001b[0m\u001b[30m*\u001b[0m\u001b[30m*\u001b[0m\u001b[30m*\u001b[0m\u001b[30m*\u001b[0m\u001b[30m*\u001b[0m\n",
      "\u001b[30m*\u001b[0m\u001b[30m*\u001b[0m\u001b[30m*\u001b[0m\u001b[30m*\u001b[0m\u001b[30m*\u001b[0m\u001b[30m*\u001b[0m\u001b[30m*\u001b[0m\u001b[30m*\u001b[0m\u001b[30m*\u001b[0m\u001b[30m*\u001b[0m\u001b[32;1mH\u001b[0\u001b[36mP\u001b[0m\u001b[30m*\u001b[0m\u001b[30m*\u001b[0m\u001b[30m*\u001b[0m\u001b[30m*\u001b[0m\u001b[30m*\u001b[0m\u001b[30m*\u001b[0m\u001b[30m*\u001b[0m\u001b[30m*\u001b[0m\u001b[30m*\u001b[0m\n",
      "\u001b[30m*\u001b[0m\u001b[30m*\u001b[0m\u001b[30m*\u001b[0m\u001b[30m*\u001b[0m\u001b[30m*\u001b[0m\u001b[30m*\u001b[0m\u001b[30m*\u001b[0m\u001b[30m*\u001b[0m\u001b[30m*\u001b[0m\u001b[32;1mH\u001b[0\u001b[32;1mH\u001b[0\u001b[32;1mH\u001b[0\u001b[30m*\u001b[0m\u001b[30m*\u001b[0m\u001b[30m*\u001b[0m\u001b[30m*\u001b[0m\u001b[30m*\u001b[0m\u001b[30m*\u001b[0m\u001b[30m*\u001b[0m\u001b[30m*\u001b[0m\u001b[30m*\u001b[0m\n",
      "\u001b[30m*\u001b[0m\u001b[30m*\u001b[0m\u001b[30m*\u001b[0m\u001b[30m*\u001b[0m\u001b[30m*\u001b[0m\u001b[30m*\u001b[0m\u001b[30m*\u001b[0m\u001b[30m*\u001b[0m\u001b[30m*\u001b[0m\u001b[36mP\u001b[0m\u001b[32;1mH\u001b[0\u001b[32;1mH\u001b[0\u001b[30m*\u001b[0m\u001b[30m*\u001b[0m\u001b[30m*\u001b[0m\u001b[30m*\u001b[0m\u001b[30m*\u001b[0m\u001b[30m*\u001b[0m\u001b[30m*\u001b[0m\u001b[30m*\u001b[0m\u001b[30m*\u001b[0m\n",
      "\u001b[30m*\u001b[0m\u001b[30m*\u001b[0m\u001b[30m*\u001b[0m\u001b[30m*\u001b[0m\u001b[30m*\u001b[0m\u001b[30m*\u001b[0m\u001b[30m*\u001b[0m\u001b[30m*\u001b[0m\u001b[30m*\u001b[0m\u001b[30m*\u001b[0m\u001b[32;1mH\u001b[0\u001b[36mP\u001b[0m\u001b[30m*\u001b[0m\u001b[30m*\u001b[0m\u001b[30m*\u001b[0m\u001b[30m*\u001b[0m\u001b[30m*\u001b[0m\u001b[30m*\u001b[0m\u001b[30m*\u001b[0m\u001b[30m*\u001b[0m\u001b[30m*\u001b[0m\n",
      "\u001b[30m*\u001b[0m\u001b[30m*\u001b[0m\u001b[30m*\u001b[0m\u001b[30m*\u001b[0m\u001b[30m*\u001b[0m\u001b[30m*\u001b[0m\u001b[30m*\u001b[0m\u001b[30m*\u001b[0m\u001b[30m*\u001b[0m\u001b[30m*\u001b[0m\u001b[30m*\u001b[0m\u001b[30m*\u001b[0m\u001b[30m*\u001b[0m\u001b[30m*\u001b[0m\u001b[30m*\u001b[0m\u001b[30m*\u001b[0m\u001b[30m*\u001b[0m\u001b[30m*\u001b[0m\u001b[30m*\u001b[0m\u001b[30m*\u001b[0m\u001b[30m*\u001b[0m\n",
      "\u001b[30m*\u001b[0m\u001b[30m*\u001b[0m\u001b[30m*\u001b[0m\u001b[30m*\u001b[0m\u001b[30m*\u001b[0m\u001b[30m*\u001b[0m\u001b[30m*\u001b[0m\u001b[30m*\u001b[0m\u001b[30m*\u001b[0m\u001b[30m*\u001b[0m\u001b[30m*\u001b[0m\u001b[30m*\u001b[0m\u001b[30m*\u001b[0m\u001b[30m*\u001b[0m\u001b[30m*\u001b[0m\u001b[30m*\u001b[0m\u001b[30m*\u001b[0m\u001b[30m*\u001b[0m\u001b[30m*\u001b[0m\u001b[30m*\u001b[0m\u001b[30m*\u001b[0m\n",
      "\u001b[30m*\u001b[0m\u001b[30m*\u001b[0m\u001b[30m*\u001b[0m\u001b[30m*\u001b[0m\u001b[30m*\u001b[0m\u001b[30m*\u001b[0m\u001b[30m*\u001b[0m\u001b[30m*\u001b[0m\u001b[30m*\u001b[0m\u001b[30m*\u001b[0m\u001b[30m*\u001b[0m\u001b[30m*\u001b[0m\u001b[30m*\u001b[0m\u001b[30m*\u001b[0m\u001b[30m*\u001b[0m\u001b[30m*\u001b[0m\u001b[30m*\u001b[0m\u001b[30m*\u001b[0m\u001b[30m*\u001b[0m\u001b[30m*\u001b[0m\u001b[30m*\u001b[0m\n",
      "\u001b[30m*\u001b[0m\u001b[30m*\u001b[0m\u001b[30m*\u001b[0m\u001b[30m*\u001b[0m\u001b[30m*\u001b[0m\u001b[30m*\u001b[0m\u001b[30m*\u001b[0m\u001b[30m*\u001b[0m\u001b[30m*\u001b[0m\u001b[30m*\u001b[0m\u001b[30m*\u001b[0m\u001b[30m*\u001b[0m\u001b[30m*\u001b[0m\u001b[30m*\u001b[0m\u001b[30m*\u001b[0m\u001b[30m*\u001b[0m\u001b[30m*\u001b[0m\u001b[30m*\u001b[0m\u001b[30m*\u001b[0m\u001b[30m*\u001b[0m\u001b[30m*\u001b[0m\n",
      "\u001b[30m*\u001b[0m\u001b[30m*\u001b[0m\u001b[30m*\u001b[0m\u001b[30m*\u001b[0m\u001b[30m*\u001b[0m\u001b[30m*\u001b[0m\u001b[30m*\u001b[0m\u001b[30m*\u001b[0m\u001b[30m*\u001b[0m\u001b[30m*\u001b[0m\u001b[30m*\u001b[0m\u001b[30m*\u001b[0m\u001b[30m*\u001b[0m\u001b[30m*\u001b[0m\u001b[30m*\u001b[0m\u001b[30m*\u001b[0m\u001b[30m*\u001b[0m\u001b[30m*\u001b[0m\u001b[30m*\u001b[0m\u001b[30m*\u001b[0m\u001b[30m*\u001b[0m\n",
      "\u001b[30m*\u001b[0m\u001b[30m*\u001b[0m\u001b[30m*\u001b[0m\u001b[30m*\u001b[0m\u001b[30m*\u001b[0m\u001b[30m*\u001b[0m\u001b[30m*\u001b[0m\u001b[30m*\u001b[0m\u001b[30m*\u001b[0m\u001b[30m*\u001b[0m\u001b[30m*\u001b[0m\u001b[30m*\u001b[0m\u001b[30m*\u001b[0m\u001b[30m*\u001b[0m\u001b[30m*\u001b[0m\u001b[30m*\u001b[0m\u001b[30m*\u001b[0m\u001b[30m*\u001b[0m\u001b[30m*\u001b[0m\u001b[30m*\u001b[0m\u001b[30m*\u001b[0m\n",
      "\u001b[30m*\u001b[0m\u001b[30m*\u001b[0m\u001b[30m*\u001b[0m\u001b[30m*\u001b[0m\u001b[30m*\u001b[0m\u001b[30m*\u001b[0m\u001b[30m*\u001b[0m\u001b[30m*\u001b[0m\u001b[30m*\u001b[0m\u001b[30m*\u001b[0m\u001b[30m*\u001b[0m\u001b[30m*\u001b[0m\u001b[30m*\u001b[0m\u001b[30m*\u001b[0m\u001b[30m*\u001b[0m\u001b[30m*\u001b[0m\u001b[30m*\u001b[0m\u001b[30m*\u001b[0m\u001b[30m*\u001b[0m\u001b[30m*\u001b[0m\u001b[30m*\u001b[0m\n",
      "\u001b[30m*\u001b[0m\u001b[30m*\u001b[0m\u001b[30m*\u001b[0m\u001b[30m*\u001b[0m\u001b[30m*\u001b[0m\u001b[30m*\u001b[0m\u001b[30m*\u001b[0m\u001b[30m*\u001b[0m\u001b[30m*\u001b[0m\u001b[30m*\u001b[0m\u001b[30m*\u001b[0m\u001b[30m*\u001b[0m\u001b[30m*\u001b[0m\u001b[30m*\u001b[0m\u001b[30m*\u001b[0m\u001b[30m*\u001b[0m\u001b[30m*\u001b[0m\u001b[30m*\u001b[0m\u001b[30m*\u001b[0m\u001b[30m*\u001b[0m\u001b[30m*\u001b[0m\n",
      "\u001b[30m*\u001b[0m\u001b[30m*\u001b[0m\u001b[30m*\u001b[0m\u001b[30m*\u001b[0m\u001b[30m*\u001b[0m\u001b[30m*\u001b[0m\u001b[30m*\u001b[0m\u001b[30m*\u001b[0m\u001b[30m*\u001b[0m\u001b[30m*\u001b[0m\u001b[30m*\u001b[0m\u001b[30m*\u001b[0m\u001b[30m*\u001b[0m\u001b[30m*\u001b[0m\u001b[30m*\u001b[0m\u001b[30m*\u001b[0m\u001b[30m*\u001b[0m\u001b[30m*\u001b[0m\u001b[30m*\u001b[0m\u001b[30m*\u001b[0m\u001b[30m*\u001b[0m\n",
      "4\n",
      "{'chain_length': 10, 'seq_length': 10, 'collisions': 0, 'actions': ['L', 'U', 'R', 'U', 'R', 'D', 'D', 'D', 'L'], 'is_trapped': False, 'state_chain': OrderedDict([((0, 0), 'H'), ((-1, 0), 'P'), ((-1, 1), 'H'), ((0, 1), 'H'), ((0, 2), 'H'), ((1, 2), 'P'), ((1, 1), 'H'), ((1, 0), 'H'), ((1, -1), 'P'), ((0, -1), 'H')])}\n"
     ]
    }
   ],
   "source": [
    "print(episilon)\n",
    "env.render()\n",
    "print(reward)\n",
    "print(info)"
   ]
  }
 ],
 "metadata": {
  "kernelspec": {
   "display_name": "Python 3.8.13 ('urop')",
   "language": "python",
   "name": "python3"
  },
  "language_info": {
   "codemirror_mode": {
    "name": "ipython",
    "version": 3
   },
   "file_extension": ".py",
   "mimetype": "text/x-python",
   "name": "python",
   "nbconvert_exporter": "python",
   "pygments_lexer": "ipython3",
   "version": "3.8.13"
  },
  "orig_nbformat": 4,
  "vscode": {
   "interpreter": {
    "hash": "945b4700c427f40317cbfc6c88257f8f347ebd9da4a5b88684047038de62cd6d"
   }
  }
 },
 "nbformat": 4,
 "nbformat_minor": 2
}
