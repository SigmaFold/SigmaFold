{
 "cells": [
  {
   "cell_type": "code",
   "execution_count": 41,
   "metadata": {},
   "outputs": [
    {
     "name": "stdout",
     "output_type": "stream",
     "text": [
      "-272375401224217160\n",
      "-272375401224217160\n"
     ]
    }
   ],
   "source": [
    "a = set()\n",
    "b = frozenset([1,2,3])\n",
    "a.add(b)\n",
    "c = frozenset([2,3,1])\n",
    "\n",
    "print(b.__hash__())\n",
    "print(c.__hash__())"
   ]
  },
  {
   "cell_type": "code",
   "execution_count": null,
   "metadata": {},
   "outputs": [],
   "source": [
    "import numpy as np\n",
    "a = np.asarray([[1,2,3],[4,5,6]])\n",
    "for index in np.ndindex(np.shape(a)):\n",
    "    print(index)"
   ]
  },
  {
   "cell_type": "code",
   "execution_count": null,
   "metadata": {},
   "outputs": [],
   "source": [
    "import math\n",
    "x = np.asarray([[0,0,0,0,0],[0,0,0,0,0],[0,0,0,0,0],[0,0,0,0,0],[0,0,0,0,0]])\n",
    "centroid = (2,2)\n",
    "for index in np.ndindex(np.shape(x)):\n",
    "    distance = np.linalg.norm(np.subtract(centroid,index))\n",
    "    x[index] = distance+1\n",
    "    print(distance)\n",
    "print(x)"
   ]
  }
 ],
 "metadata": {
  "kernelspec": {
   "display_name": "venv",
   "language": "python",
   "name": "python3"
  },
  "language_info": {
   "codemirror_mode": {
    "name": "ipython",
    "version": 3
   },
   "file_extension": ".py",
   "mimetype": "text/x-python",
   "name": "python",
   "nbconvert_exporter": "python",
   "pygments_lexer": "ipython3",
   "version": "3.10.6"
  },
  "orig_nbformat": 4,
  "vscode": {
   "interpreter": {
    "hash": "31e4d23bd165513545f1c8a9092f4140aae72f0adf6a4bac307e3dd1874c9ac8"
   }
  }
 },
 "nbformat": 4,
 "nbformat_minor": 2
}
