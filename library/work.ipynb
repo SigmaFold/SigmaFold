{
 "cells": [
  {
   "cell_type": "code",
   "execution_count": 234,
   "metadata": {},
   "outputs": [],
   "source": [
    "import pandas as pd\n",
    "import sys, os\n",
    "import tensorflow as tf\n",
    "import shape_helper\n",
    "from tensorflow import keras\n",
    "from tensorflow.keras import layers"
   ]
  },
  {
   "cell_type": "code",
   "execution_count": 238,
   "metadata": {},
   "outputs": [],
   "source": [
    "\n",
    "#the following bits are basically just to deal with translations and rotations in a pretty efficient manner. Note the \n",
    "#translation+removal functions have no for loops so it's pretty quick \n",
    "#Let's make the goal shape into a bunch of 1's and 0's representing where we want pieces\n",
    "def mattoones(goalshape1):\n",
    "    for i in range(len(goalshape1)):\n",
    "        for k in range(len(np.transpose(goalshape1))):\n",
    "            if goalshape1[i][k]!='0.0' and goalshape1[i][k]!=0:\n",
    "                goalshape1[i][k]=1\n",
    "    return goalshape1\n",
    "#Remove all rows/columns at edges with only 0's in order to standardize calculations \n",
    "def translator(matrix):\n",
    "    sums=0;\n",
    "    while(sum(matrix[0])==0):\n",
    "        if (sum(matrix[0]==0)):\n",
    "            matrix=np.delete(matrix,0,0)\n",
    "\n",
    "    i=len(matrix)-1\n",
    "    while(sums==0):\n",
    "        sums=sum(matrix[i]);\n",
    "        if(sums==0):\n",
    "            matrix=np.delete(matrix,i,0)\n",
    "        i=i-1\n",
    "    return(matrix)\n",
    "\n",
    "#(*use the above function but for columns too*)\n",
    "def removal(matrixer):\n",
    "    c=translator(matrixer);\n",
    "    c=translator(np.transpose(c))\n",
    "    return(np.transpose(c))\n",
    "def sqdiff(m1,m2):\n",
    "    return (sum(sum((m1-m2)*(m1-m2))))\n",
    "#I think this lets us visualize chains as 1/0s instead of HP but it's not very useful \n",
    "def graphicchainno(chain):\n",
    "    boundary=np.floor(np.sqrt(len(chain))*2);\n",
    "    lattice=np.ndarray.tolist(np.zeros([int(boundary),int(boundary)]))\n",
    "    for i in range(len(chain)):\n",
    "        lattice[chain[i][0]][chain[i][1]]=1\n",
    "    lattice=np.array(lattice)\n",
    "    return(lattice)"
   ]
  },
  {
   "cell_type": "code",
   "execution_count": 239,
   "metadata": {},
   "outputs": [
    {
     "name": "stdout",
     "output_type": "stream",
     "text": [
      "Model: \"sequential_7\"\n",
      "_________________________________________________________________\n",
      " Layer (type)                Output Shape              Param #   \n",
      "=================================================================\n",
      " conv2d_21 (Conv2D)          (None, 15, 15, 4)         40        \n",
      "                                                                 \n",
      " max_pooling2d_14 (MaxPoolin  (None, 7, 7, 4)          0         \n",
      " g2D)                                                            \n",
      "                                                                 \n",
      " conv2d_22 (Conv2D)          (None, 7, 7, 16)          592       \n",
      "                                                                 \n",
      " max_pooling2d_15 (MaxPoolin  (None, 3, 3, 16)         0         \n",
      " g2D)                                                            \n",
      "                                                                 \n",
      " conv2d_23 (Conv2D)          (None, 3, 3, 128)         18560     \n",
      "                                                                 \n",
      " flatten_7 (Flatten)         (None, 1152)              0         \n",
      "                                                                 \n",
      " dense_14 (Dense)            (None, 6)                 6918      \n",
      "                                                                 \n",
      " dense_15 (Dense)            (None, 1)                 7         \n",
      "                                                                 \n",
      "=================================================================\n",
      "Total params: 26,117\n",
      "Trainable params: 26,117\n",
      "Non-trainable params: 0\n",
      "_________________________________________________________________\n"
     ]
    }
   ],
   "source": [
    "x=1\n",
    "model=keras.Sequential([\n",
    "    #Entry block: create four masks, and run\n",
    "    layers.Conv2D(filters=4,kernel_size=3,activation=\"relu\",padding='same',input_shape=[15,15,1]),\n",
    "    layers.MaxPool2D(),\n",
    "    #Block 2\n",
    "    layers.Conv2D(filters=16, kernel_size=3,activation=\"relu\",padding='same'),\n",
    "    layers.MaxPool2D(),\n",
    "\n",
    "    #Third hidden layer\n",
    "    layers.Conv2D(filters=128,kernel_size=3,activation=\"relu\",padding='same'),\n",
    "    #output \n",
    "    layers.Flatten(),\n",
    "    layers.Dense(units=6,activation=\"relu\"),\n",
    "    layers.Dense(units=x,activation=\"sigmoid\")\n",
    "])\n",
    "model.summary()"
   ]
  },
  {
   "attachments": {},
   "cell_type": "markdown",
   "metadata": {},
   "source": [
    "1+1"
   ]
  },
  {
   "cell_type": "markdown",
   "metadata": {},
   "source": []
  },
  {
   "cell_type": "code",
   "execution_count": 243,
   "metadata": {},
   "outputs": [],
   "source": [
    "#prepare the data \n",
    "import os,warnings\n",
    "import matplotlib as plt\n",
    "import matplotlib.pyplot as publish_display_data\n",
    "from matplotlib import gridspec\n",
    "import numpy as np\n",
    "from tensorflow.keras.preprocessing import image_dataset_from_directory\n",
    "plt.rc('figure', autolayout=True)\n",
    "plt.rc('axes', labelweight='bold', labelsize='large',\n",
    "       titleweight='bold', titlesize=18, titlepad=10)\n",
    "plt.rc('image', cmap='magma')\n",
    "warnings.filterwarnings(\"ignore\") # to clean up output cells\n",
    "def deserialize_shape(string,n):\n",
    "    \"\"\"\n",
    "    Takes a string and decodes it into a matrix\n",
    "    \"\"\"\n",
    "    matrix = np.array([])\n",
    "\n",
    "    def decode_count(char):\n",
    "        if char.isdigit():\n",
    "            return int(char)\n",
    "        return ord(char)-87\n",
    "    \n",
    "    for i in range(0,len(string), 2):\n",
    "        matrix = np.append(matrix, np.full(decode_count(string[i]), int(string[i+1])))\n",
    "    return np.asarray(matrix).reshape(n, n)"
   ]
  },
  {
   "cell_type": "code",
   "execution_count": 250,
   "metadata": {},
   "outputs": [],
   "source": [
    "#set datasets \n",
    "#from sklearn.model_selection import train_test_split\n",
    "import random\n",
    "import shape_helper\n",
    "df=pd.read_csv('/Users/joshuatsai/Documents/GitHub/SigmaFold/library/Sequences_rows (2).csv')\n",
    "targets=df['length']\n",
    "startshape=df['shape_mapping']\n",
    "validtargets=[]\n",
    "validshapes=[]\n",
    "arraysize=12\n",
    "#create our array entries \n",
    "for i in range(len(startshape)):\n",
    "    np.pad(c,[[(10-x),0],[10-y,0]])\n",
    "    startshape[i]=removal(np.asarray(shape_helper.deserialize_shape(startshape[i]),np.float32))\n",
    "    x,y=np.shape(startshape[i])\n",
    "    startshape[i]=np.pad(startshape[i],[[(10-x),0],[10-y,0]])\n",
    "#create our initial placement entries \n",
    "\n",
    "\n",
    "for i in range(len(startshape)):\n",
    "    prob=random.random()\n",
    "    if prob<.1:\n",
    "        validshapes.append(startshape[i])\n",
    "        validtargets.append(targets[i])\n",
    "#startshapes=tf.stack(startshape,np.float32)\n",
    "        \n",
    "\n",
    "\n",
    "\n",
    "\n"
   ]
  },
  {
   "cell_type": "code",
   "execution_count": 260,
   "metadata": {},
   "outputs": [
    {
     "data": {
      "text/plain": [
       "'0,0 0,1 -1,1 -1,0 -2,0 -3,0 -3,-1 -3,-2 -2,-2 -1,-2 -1,-3 0,-3 0,-2 0,-1 -1,-1 -2,-1 '"
      ]
     },
     "execution_count": 260,
     "metadata": {},
     "output_type": "execute_result"
    }
   ],
   "source": [
    "df['path'][1]"
   ]
  },
  {
   "cell_type": "code",
   "execution_count": 230,
   "metadata": {},
   "outputs": [],
   "source": [
    "x,y=np.shape(removal(validshapes[1]))\n"
   ]
  },
  {
   "cell_type": "code",
   "execution_count": 249,
   "metadata": {},
   "outputs": [
    {
     "data": {
      "text/plain": [
       "array([[0., 0., 0., 0., 0., 0., 0., 0., 0., 0.],\n",
       "       [0., 0., 0., 0., 0., 0., 0., 0., 0., 0.],\n",
       "       [0., 0., 0., 0., 0., 0., 0., 0., 0., 0.],\n",
       "       [0., 0., 0., 0., 0., 0., 0., 0., 0., 0.],\n",
       "       [0., 0., 0., 0., 0., 0., 0., 0., 0., 0.],\n",
       "       [0., 0., 0., 0., 0., 0., 0., 0., 0., 0.],\n",
       "       [0., 0., 0., 0., 0., 0., 0., 0., 0., 0.],\n",
       "       [0., 0., 0., 0., 0., 0., 0., 0., 0., 0.],\n",
       "       [0., 0., 0., 0., 0., 0., 0., 0., 0., 0.],\n",
       "       [0., 0., 0., 0., 0., 0., 1., 1., 0., 0.],\n",
       "       [0., 0., 0., 0., 0., 1., 1., 1., 1., 1.],\n",
       "       [0., 0., 0., 0., 0., 1., 1., 1., 1., 1.],\n",
       "       [0., 0., 0., 0., 0., 0., 1., 1., 1., 1.]], dtype=float32)"
      ]
     },
     "execution_count": 249,
     "metadata": {},
     "output_type": "execute_result"
    }
   ],
   "source": [
    "np.pad(c,[[(10-x),0],[10-y,0]])"
   ]
  },
  {
   "cell_type": "code",
   "execution_count": 182,
   "metadata": {},
   "outputs": [],
   "source": [
    "import math as math\n",
    "def path_to_shape(path,grid_sizes):\n",
    "    grid = np.asarray([[0]*grid_sizes]*grid_sizes, dtype=int) # actual grid for mapping\n",
    "    temp_grid = np.asarray([[0]*grid_sizes]*grid_sizes, dtype=int) # temp grid to hold the array before alignment\n",
    "    for coord in path:\n",
    "        temp_grid[coord[1]+round(grid_sizes/2)][coord[0]+ round(grid_sizes/2)] = 1 # path transferred onto grid but uncentered\n",
    "    temp_grid[round(grid_sizes/2)][round(grid_sizes/2)] = 2  \n",
    "    temp_grid = np.pad(temp_grid, 1) # zero padding to avoid multiplying by 0 when calculating moments\n",
    "\n",
    "    # find centroid of temp_grid\n",
    "    m_00 = len(path) # non-zero residues\n",
    "    m_01 = 0\n",
    "    for row_n, row in enumerate(temp_grid):\n",
    "        if np.any(row!=0):\n",
    "            m_01 += row_n * np.count_nonzero(row)\n",
    "    m_10 = 0\n",
    "    for col_n in range(np.shape(temp_grid)[1]):\n",
    "        if np.any(temp_grid[:, col_n]!=0):\n",
    "            m_10 += col_n *  np.count_nonzero(temp_grid[:, col_n])\n",
    "\n",
    "    # coordinates of centroid\n",
    "    n_centroid = math.floor((m_10/m_00))\n",
    "    m_centroid = math.floor((m_01/m_00))\n",
    "    centroid = (m_centroid, n_centroid)\n",
    "    #print(\"centroid ==>\", centroid)\n",
    "    # align temp_grid onto grid\n",
    "    dev_m = round(grid_sizes/2)-centroid[0]\n",
    "    dev_n = round(grid_sizes/2)-centroid[1]\n",
    "    coord_list = np.nonzero(temp_grid)\n",
    "    print(\"startpos ==>\", (dev_m,dev_n))\n",
    "    start= (round(grid_sizes/2)+dev_m,round(grid_sizes/2)+dev_n)\n",
    "    for i in range(len(coord_list[0])):\n",
    "        grid[coord_list[0][i]+dev_m][coord_list[1][i]+dev_n] = 1\n",
    "        #if i==0:\n",
    "            #grid[coord_list[0][i]+dev_m][coord_list[1][i]+dev_n] = 2\n",
    "    \n",
    "    return temp_grid, grid,start\n",
    "def start_to_class(coords,grid_size):\n",
    "    return coords[0]*grid_size+coords[1]"
   ]
  },
  {
   "cell_type": "code",
   "execution_count": 183,
   "metadata": {},
   "outputs": [
    {
     "name": "stdout",
     "output_type": "stream",
     "text": [
      "startpos ==> (0, -1)\n"
     ]
    }
   ],
   "source": [
    "\n",
    "#Obtain a list of start positions in relation to centroids and shapes \n",
    "c=path_to_shape([[0,0],[0,1], [-1,1],[ -2,1], [-2,0],[ -1,0], [-1,-1],[ 0,-1],[0,-2],[ 1,-2], [2,-2],[ 2,-1], [2,0], [1,0], [1,-1]],10)\n",
    "k=start_to_class(c[2],10)\n",
    "tk=tf.convert_to_tensor(k)\n",
    "\n"
   ]
  },
  {
   "cell_type": "code",
   "execution_count": 184,
   "metadata": {},
   "outputs": [
    {
     "data": {
      "text/html": [
       "<div>\n",
       "<style scoped>\n",
       "    .dataframe tbody tr th:only-of-type {\n",
       "        vertical-align: middle;\n",
       "    }\n",
       "\n",
       "    .dataframe tbody tr th {\n",
       "        vertical-align: top;\n",
       "    }\n",
       "\n",
       "    .dataframe thead th {\n",
       "        text-align: right;\n",
       "    }\n",
       "</style>\n",
       "<table border=\"1\" class=\"dataframe\">\n",
       "  <thead>\n",
       "    <tr style=\"text-align: right;\">\n",
       "      <th></th>\n",
       "      <th>sequence_id</th>\n",
       "      <th>sequence</th>\n",
       "      <th>degeneracy</th>\n",
       "      <th>length</th>\n",
       "      <th>energy</th>\n",
       "      <th>shape_mapping</th>\n",
       "      <th>path</th>\n",
       "    </tr>\n",
       "  </thead>\n",
       "  <tbody>\n",
       "    <tr>\n",
       "      <th>0</th>\n",
       "      <td>-6506029740256395023</td>\n",
       "      <td>HPHPPPPHPHPHPHH</td>\n",
       "      <td>2</td>\n",
       "      <td>15</td>\n",
       "      <td>-6</td>\n",
       "      <td>Ə031m041l041m021n021ĩ0</td>\n",
       "      <td>0,0 0,1 -1,1 -1,2 -1,3 -2,3 -2,2 -2,1 -3,1 -3,...</td>\n",
       "    </tr>\n",
       "    <tr>\n",
       "      <th>1</th>\n",
       "      <td>6182686246958916932</td>\n",
       "      <td>HPHPPHPHPHPHPHH</td>\n",
       "      <td>2</td>\n",
       "      <td>15</td>\n",
       "      <td>-7</td>\n",
       "      <td>Ɛ031l041k051k031Ń0</td>\n",
       "      <td>0,0 0,1 -1,1 -2,1 -2,0 -1,0 -1,-1 0,-1 0,-2 1,...</td>\n",
       "    </tr>\n",
       "    <tr>\n",
       "      <th>2</th>\n",
       "      <td>-6290340639949105171</td>\n",
       "      <td>HPPHHHPHHPHPPHP</td>\n",
       "      <td>2</td>\n",
       "      <td>15</td>\n",
       "      <td>-6</td>\n",
       "      <td>Ɛ021m041l041m031n021Ĩ0</td>\n",
       "      <td>0,0 0,1 -1,1 -1,0 -1,-1 0,-1 0,-2 -1,-2 -1,-3 ...</td>\n",
       "    </tr>\n",
       "    <tr>\n",
       "      <th>3</th>\n",
       "      <td>-19529217640658864</td>\n",
       "      <td>HPHPPPPHPHPPPHH</td>\n",
       "      <td>2</td>\n",
       "      <td>15</td>\n",
       "      <td>-5</td>\n",
       "      <td>Ɛ031l041l041m021n021ĩ0</td>\n",
       "      <td>0,0 0,1 1,1 1,2 1,3 2,3 2,2 2,1 3,1 3,0 3,-1 2...</td>\n",
       "    </tr>\n",
       "    <tr>\n",
       "      <th>4</th>\n",
       "      <td>-7378937463594783569</td>\n",
       "      <td>HPHPPHPPPHPPHHP</td>\n",
       "      <td>2</td>\n",
       "      <td>15</td>\n",
       "      <td>-5</td>\n",
       "      <td>Ə031l051k051m021ł0</td>\n",
       "      <td>0,0 0,1 -1,1 -1,2 -2,2 -2,1 -3,1 -4,1 -4,0 -3,...</td>\n",
       "    </tr>\n",
       "    <tr>\n",
       "      <th>...</th>\n",
       "      <td>...</td>\n",
       "      <td>...</td>\n",
       "      <td>...</td>\n",
       "      <td>...</td>\n",
       "      <td>...</td>\n",
       "      <td>...</td>\n",
       "      <td>...</td>\n",
       "    </tr>\n",
       "    <tr>\n",
       "      <th>95</th>\n",
       "      <td>7967242413348939084</td>\n",
       "      <td>HPHPPPHPPPPHPHP</td>\n",
       "      <td>2</td>\n",
       "      <td>15</td>\n",
       "      <td>-4</td>\n",
       "      <td>Ÿ011n031k051k041n021ł0</td>\n",
       "      <td>0,0 0,1 -1,1 -1,2 -1,3 -2,3 -2,2 -3,2 -4,2 -4,...</td>\n",
       "    </tr>\n",
       "    <tr>\n",
       "      <th>96</th>\n",
       "      <td>-5155282045392613402</td>\n",
       "      <td>HPHPPPHPPPPHHHP</td>\n",
       "      <td>2</td>\n",
       "      <td>15</td>\n",
       "      <td>-4</td>\n",
       "      <td>Ÿ011n031k051k041n021ł0</td>\n",
       "      <td>0,0 0,1 -1,1 -1,2 -1,3 -2,3 -2,2 -3,2 -4,2 -4,...</td>\n",
       "    </tr>\n",
       "    <tr>\n",
       "      <th>97</th>\n",
       "      <td>-4092807018667426668</td>\n",
       "      <td>HPHPPPHPPPPHHHP</td>\n",
       "      <td>2</td>\n",
       "      <td>15</td>\n",
       "      <td>-4</td>\n",
       "      <td>ŷ011n031m051l041l021ł0</td>\n",
       "      <td>0,0 0,1 1,1 1,2 1,3 2,3 2,2 3,2 4,2 4,1 3,1 2,...</td>\n",
       "    </tr>\n",
       "    <tr>\n",
       "      <th>98</th>\n",
       "      <td>2361056144606801406</td>\n",
       "      <td>HPHPPPHPPPHHHHP</td>\n",
       "      <td>2</td>\n",
       "      <td>15</td>\n",
       "      <td>-4</td>\n",
       "      <td>Ÿ011n031k051k041n021ł0</td>\n",
       "      <td>0,0 0,1 -1,1 -1,2 -1,3 -2,3 -2,2 -3,2 -4,2 -4,...</td>\n",
       "    </tr>\n",
       "    <tr>\n",
       "      <th>99</th>\n",
       "      <td>-37928259963712727</td>\n",
       "      <td>HPHPPHPHPHPHPHH</td>\n",
       "      <td>2</td>\n",
       "      <td>15</td>\n",
       "      <td>-7</td>\n",
       "      <td>Ə031m041l051m031ŀ0</td>\n",
       "      <td>0,0 0,1 1,1 2,1 2,0 1,0 1,-1 0,-1 0,-2 -1,-2 -...</td>\n",
       "    </tr>\n",
       "  </tbody>\n",
       "</table>\n",
       "<p>100 rows × 7 columns</p>\n",
       "</div>"
      ],
      "text/plain": [
       "            sequence_id         sequence  degeneracy  length  energy  \\\n",
       "0  -6506029740256395023  HPHPPPPHPHPHPHH           2      15      -6   \n",
       "1   6182686246958916932  HPHPPHPHPHPHPHH           2      15      -7   \n",
       "2  -6290340639949105171  HPPHHHPHHPHPPHP           2      15      -6   \n",
       "3    -19529217640658864  HPHPPPPHPHPPPHH           2      15      -5   \n",
       "4  -7378937463594783569  HPHPPHPPPHPPHHP           2      15      -5   \n",
       "..                  ...              ...         ...     ...     ...   \n",
       "95  7967242413348939084  HPHPPPHPPPPHPHP           2      15      -4   \n",
       "96 -5155282045392613402  HPHPPPHPPPPHHHP           2      15      -4   \n",
       "97 -4092807018667426668  HPHPPPHPPPPHHHP           2      15      -4   \n",
       "98  2361056144606801406  HPHPPPHPPPHHHHP           2      15      -4   \n",
       "99   -37928259963712727  HPHPPHPHPHPHPHH           2      15      -7   \n",
       "\n",
       "             shape_mapping                                               path  \n",
       "0   Ə031m041l041m021n021ĩ0  0,0 0,1 -1,1 -1,2 -1,3 -2,3 -2,2 -2,1 -3,1 -3,...  \n",
       "1       Ɛ031l041k051k031Ń0  0,0 0,1 -1,1 -2,1 -2,0 -1,0 -1,-1 0,-1 0,-2 1,...  \n",
       "2   Ɛ021m041l041m031n021Ĩ0  0,0 0,1 -1,1 -1,0 -1,-1 0,-1 0,-2 -1,-2 -1,-3 ...  \n",
       "3   Ɛ031l041l041m021n021ĩ0  0,0 0,1 1,1 1,2 1,3 2,3 2,2 2,1 3,1 3,0 3,-1 2...  \n",
       "4       Ə031l051k051m021ł0  0,0 0,1 -1,1 -1,2 -2,2 -2,1 -3,1 -4,1 -4,0 -3,...  \n",
       "..                     ...                                                ...  \n",
       "95  Ÿ011n031k051k041n021ł0  0,0 0,1 -1,1 -1,2 -1,3 -2,3 -2,2 -3,2 -4,2 -4,...  \n",
       "96  Ÿ011n031k051k041n021ł0  0,0 0,1 -1,1 -1,2 -1,3 -2,3 -2,2 -3,2 -4,2 -4,...  \n",
       "97  ŷ011n031m051l041l021ł0  0,0 0,1 1,1 1,2 1,3 2,3 2,2 3,2 4,2 4,1 3,1 2,...  \n",
       "98  Ÿ011n031k051k041n021ł0  0,0 0,1 -1,1 -1,2 -1,3 -2,3 -2,2 -3,2 -4,2 -4,...  \n",
       "99      Ə031m041l051m031ŀ0  0,0 0,1 1,1 2,1 2,0 1,0 1,-1 0,-1 0,-2 -1,-2 -...  \n",
       "\n",
       "[100 rows x 7 columns]"
      ]
     },
     "execution_count": 184,
     "metadata": {},
     "output_type": "execute_result"
    }
   ],
   "source": [
    "df"
   ]
  },
  {
   "cell_type": "code",
   "execution_count": 95,
   "metadata": {},
   "outputs": [
    {
     "ename": "ValueError",
     "evalue": "Failed to convert a NumPy array to a Tensor (Unsupported object type numpy.ndarray).",
     "output_type": "error",
     "traceback": [
      "\u001b[0;31m---------------------------------------------------------------------------\u001b[0m",
      "\u001b[0;31mValueError\u001b[0m                                Traceback (most recent call last)",
      "Cell \u001b[0;32mIn[95], line 1\u001b[0m\n\u001b[0;32m----> 1\u001b[0m model\u001b[39m.\u001b[39;49mpredict(\n\u001b[1;32m      2\u001b[0m startshape\n\u001b[1;32m      3\u001b[0m )\n",
      "File \u001b[0;32m~/anaconda3/envs/tensorflow/lib/python3.10/site-packages/keras/utils/traceback_utils.py:70\u001b[0m, in \u001b[0;36mfilter_traceback.<locals>.error_handler\u001b[0;34m(*args, **kwargs)\u001b[0m\n\u001b[1;32m     67\u001b[0m     filtered_tb \u001b[39m=\u001b[39m _process_traceback_frames(e\u001b[39m.\u001b[39m__traceback__)\n\u001b[1;32m     68\u001b[0m     \u001b[39m# To get the full stack trace, call:\u001b[39;00m\n\u001b[1;32m     69\u001b[0m     \u001b[39m# `tf.debugging.disable_traceback_filtering()`\u001b[39;00m\n\u001b[0;32m---> 70\u001b[0m     \u001b[39mraise\u001b[39;00m e\u001b[39m.\u001b[39mwith_traceback(filtered_tb) \u001b[39mfrom\u001b[39;00m \u001b[39mNone\u001b[39m\n\u001b[1;32m     71\u001b[0m \u001b[39mfinally\u001b[39;00m:\n\u001b[1;32m     72\u001b[0m     \u001b[39mdel\u001b[39;00m filtered_tb\n",
      "File \u001b[0;32m~/anaconda3/envs/tensorflow/lib/python3.10/site-packages/tensorflow/python/framework/constant_op.py:102\u001b[0m, in \u001b[0;36mconvert_to_eager_tensor\u001b[0;34m(value, ctx, dtype)\u001b[0m\n\u001b[1;32m    100\u001b[0m     dtype \u001b[39m=\u001b[39m dtypes\u001b[39m.\u001b[39mas_dtype(dtype)\u001b[39m.\u001b[39mas_datatype_enum\n\u001b[1;32m    101\u001b[0m ctx\u001b[39m.\u001b[39mensure_initialized()\n\u001b[0;32m--> 102\u001b[0m \u001b[39mreturn\u001b[39;00m ops\u001b[39m.\u001b[39;49mEagerTensor(value, ctx\u001b[39m.\u001b[39;49mdevice_name, dtype)\n",
      "\u001b[0;31mValueError\u001b[0m: Failed to convert a NumPy array to a Tensor (Unsupported object type numpy.ndarray)."
     ]
    }
   ],
   "source": [
    "model.predict(\n",
    "startshape\n",
    ")"
   ]
  },
  {
   "cell_type": "code",
   "execution_count": null,
   "metadata": {},
   "outputs": [],
   "source": [
    "batch_size = 32\n",
    "img_height = 25\n",
    "img_width = 25\n",
    "train_ds=tf.keras.utils.image_dataset_from_directory()\n"
   ]
  }
 ],
 "metadata": {
  "kernelspec": {
   "display_name": "tensorflow",
   "language": "python",
   "name": "python3"
  },
  "language_info": {
   "codemirror_mode": {
    "name": "ipython",
    "version": 3
   },
   "file_extension": ".py",
   "mimetype": "text/x-python",
   "name": "python",
   "nbconvert_exporter": "python",
   "pygments_lexer": "ipython3",
   "version": "3.10.10"
  },
  "orig_nbformat": 4,
  "vscode": {
   "interpreter": {
    "hash": "e4105d12a29fc746c9d0307a03cd225a6f6bf495510b29bffa72f5cb03d4b2eb"
   }
  }
 },
 "nbformat": 4,
 "nbformat_minor": 2
}
