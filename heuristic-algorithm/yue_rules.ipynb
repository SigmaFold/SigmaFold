{
 "cells": [
  {
   "cell_type": "code",
   "execution_count": 2,
   "metadata": {},
   "outputs": [],
   "source": [
    "import numpy as np\n",
    "import pandas as pd\n",
    "from native_fold import *"
   ]
  },
  {
   "attachments": {},
   "cell_type": "markdown",
   "metadata": {},
   "source": [
    "## Functions"
   ]
  },
  {
   "attachments": {},
   "cell_type": "markdown",
   "metadata": {},
   "source": [
    "Generating Shapes & Path"
   ]
  },
  {
   "cell_type": "code",
   "execution_count": 3,
   "metadata": {},
   "outputs": [],
   "source": [
    "def index_shape(shape):\n",
    "    '''\n",
    "    Numbers the elements of an input array from 1, starting horizontally\n",
    "        Input: shape - numpy array of 0's and 1's representing shape\n",
    "        Output: shape_out - numpy array with indexed elements for non-zero elements padded with 0 (void)\n",
    "    '''\n",
    "    # gets shape dimensions\n",
    "    row_len = np.shape(shape)[0] # gets row length\n",
    "    col_len = np.shape(shape)[1] # gets col length\n",
    "    shape_out = np.asarray(row_len * [col_len * [0]])\n",
    "    \n",
    "    index = 1 # path starts from 1\n",
    "    for row in range(row_len): # goes through each row\n",
    "        for col in range(col_len): # goes through each column\n",
    "            if shape[row][col] == 1: # if element present\n",
    "                shape_out[row][col] = index\n",
    "                index += 1\n",
    "\n",
    "    return np.pad(shape_out, 1) # pads with 0 for void"
   ]
  },
  {
   "cell_type": "code",
   "execution_count": 4,
   "metadata": {},
   "outputs": [],
   "source": [
    "def gen_path(df, shape, origin):\n",
    "    '''\n",
    "    Generates all possible paths given a shape\n",
    "        Input: df - pandas dataframe containing neighbouring environment information of the shape \n",
    "               shape - numpy array with indexed elements for non-zero elements padded with 0 (void)\n",
    "               origin - location (tuple) of point to start from on the shape\n",
    "        Output: paths - list of all possible paths for a given shape\n",
    "    '''\n",
    "    # generate all possible paths and stored in paths\n",
    "    paths = [] # list of all possible paths\n",
    "    visited = set()\n",
    "    length = len(df)\n",
    "    def saw(start, visited, path=[]):\n",
    "        # intialising path\n",
    "        if start not in path:\n",
    "            path.append(start)\n",
    "            visited.add(start)\n",
    "\n",
    "        # growing the path\n",
    "        if len(path) < length: # if chain not finished\n",
    "            curr_i = shape[start[0]][start[1]] # name of the current element\n",
    "            nb_list = df.loc[curr_i].loc[\"neighbours\"] # list of neighbours for the element\n",
    "\n",
    "            for nb in nb_list: # iteratres through each neighbour\n",
    "                nb_pos = df.loc[nb].loc[\"position\"]\n",
    "                if nb_pos not in visited: # if neighbour has not been visted\n",
    "                    visited.add(nb_pos)\n",
    "                    saw(nb_pos, visited, path + [nb_pos])\n",
    "                    visited.remove(nb_pos)\n",
    "        else:\n",
    "            paths.append(path)\n",
    "    saw(origin, visited)\n",
    "\n",
    "    return paths"
   ]
  },
  {
   "cell_type": "code",
   "execution_count": 28,
   "metadata": {},
   "outputs": [],
   "source": [
    "def optimal_path(df, shape):\n",
    "    '''\n",
    "    Returns the optimal paths given a shape judged by the number of elements in contact with the terminals\n",
    "        Input: df - pandas dataframe containing neighbouring environment information of the shape \n",
    "        Output: optimal paths with the most ends 'buried'\n",
    "    '''\n",
    "    # dictionary of how many total terminal neighbours paths have\n",
    "    terminal_nb = {}\n",
    "    for i in range(8,3,-1): # min number of connected neighbours for terminals = 4, maximum = 8\n",
    "        terminal_nb[i] = [] # create empty list for path\n",
    "\n",
    "    # dictionary of neighbour count and positions\n",
    "    pos_to_nb = {}\n",
    "    for i in range(len(df)):\n",
    "        pos_to_nb[df.iloc[i].loc[\"position\"]] = df.iloc[i].loc[\"nb count\"]\n",
    "\n",
    "    # generating path from each point in shape\n",
    "    for i in range(len(df)):\n",
    "        paths = []\n",
    "        origin = df.iloc[i].loc[\"position\"]\n",
    "        paths = gen_path(df, shape, origin) # generate all possible paths starting from given origin\n",
    "        for path in paths:\n",
    "            term_nb = pos_to_nb[path[0]] + pos_to_nb[path[-1]] # calculate the total neighbours of the two terminals\n",
    "            terminal_nb[term_nb].append(path)\n",
    "    \n",
    "    # remove repeating paths\n",
    "    for i in range(8,3,-1):\n",
    "        for path in terminal_nb[i]:\n",
    "            if list(reversed(path)) in terminal_nb[i]:\n",
    "                terminal_nb[i].remove(path)\n",
    "\n",
    "    for i in range(8,3,-1):\n",
    "        print(f\"{len(terminal_nb[i])} paths for terminal neighbours = {i-2}\")\n",
    "\n",
    "    # return paths with specified terminal neighbours\n",
    "    return terminal_nb"
   ]
  },
  {
   "cell_type": "code",
   "execution_count": 6,
   "metadata": {},
   "outputs": [],
   "source": [
    "# def optimal_path(df, shape):\n",
    "#     '''\n",
    "#     Returns the optimal paths given a shape judged by the number of elements in contact with the terminals\n",
    "#         Input: df - pandas dataframe containing neighbouring environment information of the shape \n",
    "#         Output: optimal paths with the most ends 'buried'\n",
    "#     '''\n",
    "#     both_ends = []\n",
    "#     one_end = []\n",
    "#     no_end = []\n",
    "\n",
    "#     # get a list of all interior elements\n",
    "#     interior_i = []\n",
    "#     for i in range(1, len(df)+1):\n",
    "#         if df.loc[i].loc[\"nb count\"] == 4:\n",
    "#             interior_i.append(i)\n",
    "    \n",
    "#     # get a list of all exterior elements\n",
    "#     exterior_i = []\n",
    "#     for i in range(1, len(df)+1):\n",
    "#         if i not in interior_i:\n",
    "#             exterior_i.append(i)\n",
    "\n",
    "#     # generate path starting from interior\n",
    "#     if len(interior_i) != 0:\n",
    "#         for i in interior_i:\n",
    "#             paths = []\n",
    "#             i_pos = df.loc[i].loc[\"position\"]\n",
    "#             paths = gen_path(df, shape, i_pos) # generates all possible paths starting from each interior element\n",
    "\n",
    "#             for path in paths: # for each path\n",
    "#                 last_x, last_y = path[-1]\n",
    "#                 if shape[last_x][last_y] in interior_i:\n",
    "#                     both_ends.append(path)\n",
    "#                 else:\n",
    "#                     one_end.append(path)\n",
    "#     # generate path from every exterior\n",
    "#     else:\n",
    "#         print(\"No interior element\")\n",
    "#         for i in exterior_i:\n",
    "#             paths = []\n",
    "#             i_pos = df.loc[i].loc[\"position\"]\n",
    "#             paths = gen_path(df, shape, i_pos)\n",
    "#             for path in paths:\n",
    "#                 no_end.append(path)\n",
    "\n",
    "#     # reports output\n",
    "#     if len(both_ends) != 0:\n",
    "#         print(\"Optimal paths have both ends buried\")\n",
    "#         return both_ends\n",
    "#     elif len(one_end) != 0:\n",
    "#         print(\"Optimal paths have one end buried\")\n",
    "#         return one_end\n",
    "#     elif len(no_end) != 0:\n",
    "#         print(\"Optimal paths have no end buried\")\n",
    "#         return no_end\n",
    "#     else:\n",
    "#         print(\"No viable path for this shape\")"
   ]
  },
  {
   "attachments": {},
   "cell_type": "markdown",
   "metadata": {},
   "source": [
    "Plot Paths & Shapes"
   ]
  },
  {
   "cell_type": "code",
   "execution_count": 7,
   "metadata": {},
   "outputs": [],
   "source": [
    "def plot_path(path):\n",
    "    plt.figure(figsize = (6, 6))\n",
    "    x = []\n",
    "    y = []\n",
    "    for i in path:\n",
    "        x.append(i[0])\n",
    "        y.append(i[1])\n",
    "\n",
    "    plt.plot(x, y, 'bo-', ms = 12, linewidth = 1)\n",
    "    plt.plot(path[0][0], path[0][1], 'go', ms = 14, label = 'Start')\n",
    "    plt.plot(path[-1][0], path[-1][1], 'ro', ms = 14, label = 'End')\n",
    "    plt.axis('equal')\n",
    "    plt.legend(fontsize=15)\n",
    "    plt.show()"
   ]
  },
  {
   "cell_type": "code",
   "execution_count": 8,
   "metadata": {},
   "outputs": [],
   "source": [
    "def plot_HP(sequence, path):\n",
    "    plt.figure(figsize = (6, 6))\n",
    "\n",
    "    # Gets positions of elements\n",
    "    x_P = [] # position of P elements\n",
    "    y_P = []\n",
    "    for i in range(len(path)):\n",
    "        if sequence[i] == \"P\":\n",
    "            x_P.append(path[i][0])\n",
    "            y_P.append(path[i][1])\n",
    "    x = [] # position of all elements\n",
    "    y = []\n",
    "    for i in path:\n",
    "        x.append(i[0])\n",
    "        y.append(i[1])\n",
    "\n",
    "    # Plots H & P with path\n",
    "    plt.plot(x, y, 'ro-', ms = 12, linewidth = 1, label='H')\n",
    "    plt.plot(x_P, y_P, 'bo', ms = 12, label='P')\n",
    "    plt.legend(fontsize=15)\n",
    "    \n",
    "    plt.axis('equal')\n",
    "    plt.show()"
   ]
  },
  {
   "attachments": {},
   "cell_type": "markdown",
   "metadata": {},
   "source": [
    "Get Environment Info"
   ]
  },
  {
   "cell_type": "code",
   "execution_count": 9,
   "metadata": {},
   "outputs": [],
   "source": [
    "def get_env(shape):\n",
    "    '''\n",
    "    Gets the environment of each element before assigning path\n",
    "        Input: shape - numpy array with indexed elements for non-zero elements padded with 0 (void)\n",
    "        Output: dataframe including position, neighbours & neighbour count for each element\n",
    "    '''\n",
    "    # record position data\n",
    "    pos = {} # dict of position\n",
    "    for row in shape:\n",
    "        for i in row:\n",
    "            if i != 0: # if i is an element\n",
    "                pos[i] = (np.where(shape==i)[0][0], np.where(shape==i)[1][0]) # coordinate of element as tuple\n",
    "\n",
    "    # record neighbour data\n",
    "    nb = {} # dict of neighbours\n",
    "    for i in range(1, len(pos)+1):\n",
    "        nb[i] = [] # generates empty dictionary for each indexed element\n",
    "    coord_sum = {} # list of coordinate sums for finding neighbours\n",
    "    for i in range(1, len(pos)+1):\n",
    "        coord_sum[i] = sum(pos[i])\n",
    "    \n",
    "    # find neighbours of each element according to coordinate sum\n",
    "    for i1 in coord_sum: # for each element\n",
    "        sum1 = coord_sum[i1] # coordinate sum\n",
    "        if (sum1 % 2) == 0: # get elements with even coord sum\n",
    "            for sum2 in [sum1-1, sum1+1]: # get elements with coord sum +-1 of sum1\n",
    "                for i2 in coord_sum: # iterate through dictionary to find matching coord sum\n",
    "                    if coord_sum[i2] == sum2: # if the sum matches\n",
    "                        i1_pos = pos[i1]\n",
    "                        i2_pos = pos[i2]\n",
    "                        distance = (i1_pos[0] - i2_pos[0])**2 + (i1_pos[1] - i2_pos[1])**2 # calculates distance\n",
    "                        if distance == 1: # neighbour\n",
    "                            nb[i1].append(i2)\n",
    "                            nb[i2].append(i1)      \n",
    "    \n",
    "    nb_count = {} # dict of neighbour numbers\n",
    "    for i in range(1, len(pos)+1):\n",
    "        nb_count[i] = len(nb[i])\n",
    "    \n",
    "    return pd.DataFrame({\"position\":pd.Series(pos), \"neighbours\":pd.Series(nb), \"nb count\":pd.Series(nb_count)})\n",
    "    "
   ]
  },
  {
   "cell_type": "code",
   "execution_count": 10,
   "metadata": {},
   "outputs": [],
   "source": [
    "def path_info(path, shape):\n",
    "    '''\n",
    "    Checks the surrounding environment of each connected element given a path\n",
    "        Input: path - list of coordinates in order of the path\n",
    "        Output: df - dataframe with environment information\n",
    "    '''\n",
    "    # get the element label for each path coordinate\n",
    "    path_order = [] # list of element name in order for a given path\n",
    "    for i in path:\n",
    "        path_order.append(shape[i[0]][i[1]])#\n",
    "    \n",
    "    # record position data\n",
    "    pos = {} # dict of position\n",
    "    for row in shape:\n",
    "        for i in row:\n",
    "            if i != 0: # if i is an element\n",
    "                pos[i] = (np.where(shape==i)[0][0], np.where(shape==i)[1][0]) # coordinate of element as tuple\n",
    "\n",
    "    # record neighbour data\n",
    "    nb = {} # dict of neighbours\n",
    "    for i in range(1, len(path_order)+1): # i = element name\n",
    "        nb[i] = [] # generates empty dictionary for each indexed element\n",
    "\n",
    "    # find non-connected neighbours of each element using odd-even contact rule\n",
    "    for idx_i in range(1,len(path_order),2): # even index\n",
    "        i = path_order[idx_i] # element label\n",
    "        i_pos = pos[i]\n",
    "        for idx_j in range(0,len(path_order),2): # odd index\n",
    "            j = path_order[idx_j] # element label\n",
    "\n",
    "            if idx_j != (idx_i-1) and  idx_j != (idx_i+1):\n",
    "                j_pos = pos[j]\n",
    "                distance = (i_pos[0] - j_pos[0])**2 + (i_pos[1] - j_pos[1])**2 # calculates distance\n",
    "                if distance == 1: # neighbour\n",
    "                    nb[i].append(j)\n",
    "                    nb[j].append(i)\n",
    "    \n",
    "    # counts how many non-connected neighbours an element has\n",
    "    nb_count = {}\n",
    "    for i in nb:\n",
    "        nb_count[i] = len(nb[i])\n",
    "\n",
    "    df = pd.DataFrame({\"position\":pd.Series(pos), \"contact\":pd.Series(nb), \"contact number\":pd.Series(nb_count)})\n",
    "\n",
    "    return df"
   ]
  },
  {
   "attachments": {},
   "cell_type": "markdown",
   "metadata": {},
   "source": [
    "Assigning HP"
   ]
  },
  {
   "cell_type": "code",
   "execution_count": 11,
   "metadata": {},
   "outputs": [],
   "source": [
    "def assign_HP(path, shape):\n",
    "    '''\n",
    "    Assigns H or P to each element, according to rule set 1, H = 1, P = -1\n",
    "    Rule set 1:\n",
    "        Assign H's to all interior residues\n",
    "        Assign H's to all exterior residues in contact with interior residues\n",
    "    '''\n",
    "    # creates array copy with the same dimension\n",
    "    row_n = np.shape(shape)[0] # gets row number\n",
    "    col_n = np.shape(shape)[1] # gets col number\n",
    "    shape1 = np.asarray(row_n*[col_n*[0]])\n",
    "\n",
    "    # get neighbour information\n",
    "    df = path_info(path, shape)\n",
    "\n",
    "    # list of interior & exterior H's\n",
    "    interior_H = []\n",
    "    exterior_H = []\n",
    "\n",
    "    # find interior H & assign H\n",
    "    for i in range(1,len(df)+1):\n",
    "        if df.loc[i].loc[\"contact number\"] >= 2: # interior\n",
    "            interior_H.append(i)\n",
    "\n",
    "    # choose exterior residue to assign H\n",
    "    for i in interior_H: # each interior H\n",
    "        for j in df.loc[i].loc[\"contact\"]: # contact of each interior H\n",
    "            if j not in interior_H: # finds only exterior contact\n",
    "                exterior_H.append(j)\n",
    "    if len(interior_H) == 0: # if no interior\n",
    "        for i in range(1,len(df)+1):\n",
    "            if df.loc[i].loc[\"contact number\"] >= 1:\n",
    "                exterior_H.append(i)\n",
    "\n",
    "    # assign H & P\n",
    "    residue = {}\n",
    "    sequence = []\n",
    "    for i in range(len(df)): # index\n",
    "        j = df.iloc[i].name # element name\n",
    "        if len(interior_H) != 0:\n",
    "            if (j in interior_H) or (j in exterior_H): # check if assigned H\n",
    "                shape1[df.iloc[i].loc[\"position\"][0]][df.iloc[i].loc[\"position\"][1]] = 1 # H\n",
    "                residue[j] = 'H'\n",
    "            else:\n",
    "                shape1[df.iloc[i].loc[\"position\"][0]][df.iloc[i].loc[\"position\"][1]] = -1 # P\n",
    "                residue[j] = 'P'\n",
    "        else:\n",
    "            if j in exterior_H:\n",
    "                shape1[df.iloc[i].loc[\"position\"][0]][df.iloc[i].loc[\"position\"][1]] = 1 # H\n",
    "                residue[j] = 'H'\n",
    "            else:\n",
    "                shape1[df.iloc[i].loc[\"position\"][0]][df.iloc[i].loc[\"position\"][1]] = -1 # P\n",
    "                residue[j] = 'P'\n",
    "\n",
    "    df[\"residue\"] = pd.Series(residue)\n",
    "\n",
    "    for pos in path:\n",
    "        i = shape[pos[0]][pos[1]]\n",
    "        sequence.append(residue[i])\n",
    "\n",
    "    return shape1, df, \"\".join(sequence)"
   ]
  },
  {
   "attachments": {},
   "cell_type": "markdown",
   "metadata": {},
   "source": [
    "Calculate Energy & Degeneracy"
   ]
  },
  {
   "cell_type": "code",
   "execution_count": 12,
   "metadata": {},
   "outputs": [],
   "source": [
    "def calc_energy(df):\n",
    "    '''\n",
    "    Calculates energy of the outputted array with H & P\n",
    "    '''\n",
    "    energy = 0\n",
    "    for i in range(len(df)):\n",
    "        if df.iloc[i].loc[\"residue\"] == \"H\":\n",
    "            for j in df.iloc[i].loc[\"contact\"]:\n",
    "                if df.loc[j].loc[\"residue\"] == \"H\":\n",
    "                    energy += -1\n",
    "\n",
    "    return energy/2"
   ]
  },
  {
   "cell_type": "code",
   "execution_count": 13,
   "metadata": {},
   "outputs": [],
   "source": [
    "def min_EnD(sequence):\n",
    "    seq = sequence\n",
    "    n = len(sequence)\n",
    "    paths = native_fold(n)\n",
    "    energies = compute_energy(paths, sequence)\n",
    "    min_energy = energies[0][0]\n",
    "    degeneracy = 0\n",
    "\n",
    "    for i in energies:\n",
    "        if i[0] == min_energy:\n",
    "           degeneracy += 1\n",
    "        \n",
    "        # # plot the path \n",
    "        # path = heapq.heappop(energies)\n",
    "        # x = [coord[0] for coord in path[1]]\n",
    "        # y = [coord[1] for coord in path[1]]\n",
    "        # # print h and p on graph\n",
    "        # for i in range(n):\n",
    "        #     if sequence[i] == 'H':\n",
    "        #         plt.text(x[i], y[i], 'H')\n",
    "        #     else:\n",
    "        #         plt.text(x[i], y[i], 'P')\n",
    "        # plt.plot(x, y, 'ro')\n",
    "        # plt.plot(x, y)\n",
    "        # plt.show()\n",
    "    \n",
    "    return min_energy, degeneracy"
   ]
  },
  {
   "attachments": {},
   "cell_type": "markdown",
   "metadata": {},
   "source": [
    "## Procedural Design"
   ]
  },
  {
   "cell_type": "code",
   "execution_count": 31,
   "metadata": {},
   "outputs": [
    {
     "name": "stdout",
     "output_type": "stream",
     "text": [
      "[[ 0  0  0  0  0  0  0  0]\n",
      " [ 0  0  0  0  1  2  3  0]\n",
      " [ 0  4  5  6  7  8  9  0]\n",
      " [ 0 10 11 12 13 14 15  0]\n",
      " [ 0  0  0  0  0  0  0  0]\n",
      " [ 0  0  0  0  0  0  0  0]]\n",
      "0 paths for terminal neighbours = 6\n",
      "6 paths for terminal neighbours = 5\n",
      "9 paths for terminal neighbours = 4\n",
      "18 paths for terminal neighbours = 3\n",
      "15 paths for terminal neighbours = 2\n"
     ]
    }
   ],
   "source": [
    "# generates indexed structure given a shape\n",
    "structure = np.asarray([[0,0,0,1,1,1],\n",
    "                        [1,1,1,1,1,1],\n",
    "                        [1,1,1,1,1,1],\n",
    "                        [0,0,0,0,0,0]], dtype=int) # shape of 0 and 1\n",
    "structure = index_shape(structure) # shape of indexed elements\n",
    "print(structure)\n",
    "\n",
    "# generates dataframe of neighbour information\n",
    "seq_df = get_env(structure)\n",
    "\n",
    "# Check the optimal number of terminal neighbours\n",
    "paths_dict = optimal_path(seq_df, structure) # paths_dict[8] == 6 nb count"
   ]
  },
  {
   "cell_type": "code",
   "execution_count": 32,
   "metadata": {},
   "outputs": [
    {
     "data": {
      "image/png": "[encoded data removed]",
      "text/plain": [
       "<Figure size 432x432 with 1 Axes>"
      ]
     },
     "metadata": {
      "needs_background": "light"
     },
     "output_type": "display_data"
    },
    {
     "name": "stdout",
     "output_type": "stream",
     "text": [
      "[24, 24, 2]\n"
     ]
    }
   ],
   "source": [
    "# get solution with minimum degeneracy or below a certain threshold\n",
    "degeneracy = []\n",
    "paths = paths_dict[7]\n",
    "for path in paths:\n",
    "    __, __, sequence = assign_HP(path, structure)\n",
    "    __, deg = min_EnD(sequence)\n",
    "    degeneracy.append(deg)\n",
    "    if deg == 2:\n",
    "        plot_HP(sequence, path)\n",
    "        break\n",
    "print(degeneracy)"
   ]
  },
  {
   "attachments": {},
   "cell_type": "markdown",
   "metadata": {},
   "source": [
    "## Testing"
   ]
  },
  {
   "attachments": {},
   "cell_type": "markdown",
   "metadata": {},
   "source": [
    "Visualising"
   ]
  },
  {
   "cell_type": "code",
   "execution_count": 33,
   "metadata": {},
   "outputs": [
    {
     "data": {
      "image/png": "[encoded data removed]",
      "text/plain": [
       "<Figure size 432x432 with 1 Axes>"
      ]
     },
     "metadata": {
      "needs_background": "light"
     },
     "output_type": "display_data"
    },
    {
     "name": "stdout",
     "output_type": "stream",
     "text": [
      "Energy: -6.0\n",
      "Minimum Energy: -6\n",
      "Degeneracy 24\n",
      "HPPPPHHHPHPHPHH\n"
     ]
    },
    {
     "data": {
      "image/png": "[encoded data removed]",
      "text/plain": [
       "<Figure size 432x432 with 1 Axes>"
      ]
     },
     "metadata": {
      "needs_background": "light"
     },
     "output_type": "display_data"
    },
    {
     "name": "stdout",
     "output_type": "stream",
     "text": [
      "Energy: -6.0\n",
      "Minimum Energy: -6\n",
      "Degeneracy 24\n",
      "HHPHPHPHHHPPPPH\n"
     ]
    },
    {
     "data": {
      "image/png": "[encoded data removed]",
      "text/plain": [
       "<Figure size 432x432 with 1 Axes>"
      ]
     },
     "metadata": {
      "needs_background": "light"
     },
     "output_type": "display_data"
    },
    {
     "name": "stdout",
     "output_type": "stream",
     "text": [
      "Energy: -6.0\n",
      "Minimum Energy: -7\n",
      "Degeneracy 2\n",
      "HPPHPHPHPHHHPPH\n"
     ]
    },
    {
     "data": {
      "image/png": "[encoded data removed]",
      "text/plain": [
       "<Figure size 432x432 with 1 Axes>"
      ]
     },
     "metadata": {
      "needs_background": "light"
     },
     "output_type": "display_data"
    },
    {
     "name": "stdout",
     "output_type": "stream",
     "text": [
      "Energy: -5.0\n",
      "Minimum Energy: -5\n",
      "Degeneracy 18\n",
      "HPPHPHPHPHPPPPH\n"
     ]
    },
    {
     "data": {
      "image/png": "[encoded data removed]",
      "text/plain": [
       "<Figure size 432x432 with 1 Axes>"
      ]
     },
     "metadata": {
      "needs_background": "light"
     },
     "output_type": "display_data"
    },
    {
     "name": "stdout",
     "output_type": "stream",
     "text": [
      "Energy: -7.0\n",
      "Minimum Energy: -7\n",
      "Degeneracy 44\n",
      "HPPHHHHHPHPHPHH\n"
     ]
    },
    {
     "data": {
      "image/png": "[encoded data removed]",
      "text/plain": [
       "<Figure size 432x432 with 1 Axes>"
      ]
     },
     "metadata": {
      "needs_background": "light"
     },
     "output_type": "display_data"
    },
    {
     "name": "stdout",
     "output_type": "stream",
     "text": [
      "Energy: -5.0\n",
      "Minimum Energy: -5\n",
      "Degeneracy 14\n",
      "HPPPPPPHPHPHPHH\n"
     ]
    }
   ],
   "source": [
    "for path in paths:\n",
    "    _, seq_df1, sequence = assign_HP(path, structure)\n",
    "    min_energy, deg = min_EnD(sequence)\n",
    "    plot_HP(sequence, path)\n",
    "    print(f\"Energy: {calc_energy(seq_df1)}\")\n",
    "    print(f\"Minimum Energy: {min_energy}\")\n",
    "    print(f\"Degeneracy {deg}\")\n",
    "    print(sequence)"
   ]
  }
 ],
 "metadata": {
  "kernelspec": {
   "display_name": "sigmafold",
   "language": "python",
   "name": "python3"
  },
  "language_info": {
   "codemirror_mode": {
    "name": "ipython",
    "version": 3
   },
   "file_extension": ".py",
   "mimetype": "text/x-python",
   "name": "python",
   "nbconvert_exporter": "python",
   "pygments_lexer": "ipython3",
   "version": "3.10.6"
  },
  "orig_nbformat": 4,
  "vscode": {
   "interpreter": {
    "hash": "0445587f8a575f37bcd87c136431beb7409208014c52aeaa2111d9744d361f0e"
   }
  }
 },
 "nbformat": 4,
 "nbformat_minor": 2
}
